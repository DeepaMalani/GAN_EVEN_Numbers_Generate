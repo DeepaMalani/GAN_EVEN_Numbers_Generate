{
 "cells": [
  {
   "cell_type": "code",
   "execution_count": 188,
   "metadata": {},
   "outputs": [],
   "source": [
    "from typing import List\n",
    "from typing import Tuple\n",
    "import torch.nn as nn\n",
    "import numpy as np\n",
    "import pandas as pd\n",
    "import math\n",
    "import torch\n",
    "import matplotlib.pyplot as plt\n",
    "from matplotlib.pyplot import figure\n",
    "%matplotlib inline"
   ]
  },
  {
   "cell_type": "code",
   "execution_count": 189,
   "metadata": {},
   "outputs": [],
   "source": [
    "def create_binary_list_from_int(number: int) -> List[int]:\n",
    "    if number < 0 or type(number) is not int:\n",
    "        raise ValueError(\"Only Positive integers are allowed\")\n",
    "\n",
    "    return [int(x) for x in list(bin(number))[2:]]\n",
    "    "
   ]
  },
  {
   "cell_type": "code",
   "execution_count": 190,
   "metadata": {},
   "outputs": [],
   "source": [
    "def generate_even_data(max_int: int, batch_size: int=16) -> Tuple[List[int], List[List[int]]]:\n",
    "    # Get the number of binary places needed to represent the maximum number\n",
    "    max_length = int(math.log(max_int, 2))\n",
    "\n",
    "    # Sample batch_size number of integers in range 0-max_int\n",
    "    sampled_integers = np.random.randint(0, int(max_int / 2), batch_size)\n",
    "\n",
    "    # create a list of labels all ones because all numbers are even\n",
    "    labels = [1] * batch_size\n",
    "\n",
    "    # Generate a list of binary numbers for training.\n",
    "    data = [create_binary_list_from_int(int(x * 2)) for x in sampled_integers]\n",
    "    data = [([0] * (max_length - len(x))) + x for x in data]\n",
    "\n",
    "    return labels, data"
   ]
  },
  {
   "cell_type": "markdown",
   "metadata": {},
   "source": [
    "### Create Generator"
   ]
  },
  {
   "cell_type": "code",
   "execution_count": 240,
   "metadata": {},
   "outputs": [],
   "source": [
    "class Generator(nn.Module):\n",
    "\n",
    "    def __init__(self, input_length: int):\n",
    "        super().__init__()\n",
    "        self.layer  = nn.Sequential(\n",
    "            \n",
    "            nn.Linear(input_length, input_length*2),\n",
    "            nn.ReLU(True),\n",
    "            nn.Linear(input_length*2, input_length),\n",
    "            nn.Sigmoid()\n",
    "            )\n",
    "    def forward(self,xb):\n",
    "        return self.layer(xb)"
   ]
  },
  {
   "cell_type": "markdown",
   "metadata": {},
   "source": [
    "### Create Discriminator"
   ]
  },
  {
   "cell_type": "code",
   "execution_count": 192,
   "metadata": {},
   "outputs": [],
   "source": [
    "class Discriminator(nn.Module):\n",
    "\n",
    "    def __init__(self, input_length: int):\n",
    "        super().__init__()\n",
    "        self.layer  = nn.Sequential(\n",
    "            nn.Linear(input_length, input_length*2),\n",
    "            nn.ReLU(True),\n",
    "            nn.Linear(input_length*2, 1),\n",
    "            nn.Sigmoid()\n",
    "            )\n",
    "    def forward(self,xb):\n",
    "        return self.layer(xb)"
   ]
  },
  {
   "cell_type": "code",
   "execution_count": 246,
   "metadata": {},
   "outputs": [],
   "source": [
    "# Input length is 128 because our dataset is numbers between 0 and 128\n",
    "input_length = int(math.log(128, 2))"
   ]
  },
  {
   "cell_type": "code",
   "execution_count": 247,
   "metadata": {},
   "outputs": [],
   "source": [
    "generator = Generator(input_length)\n",
    "discriminator = Discriminator(input_length)"
   ]
  },
  {
   "cell_type": "code",
   "execution_count": 248,
   "metadata": {},
   "outputs": [],
   "source": [
    "num_epochs = 200"
   ]
  },
  {
   "cell_type": "markdown",
   "metadata": {},
   "source": [
    "### Training the Model "
   ]
  },
  {
   "cell_type": "code",
   "execution_count": 249,
   "metadata": {},
   "outputs": [],
   "source": [
    "def train(max_int: int = 128, batch_size: int = 16, training_steps: int = num_epochs):\n",
    "    input_length = int(math.log(max_int, 2))\n",
    "\n",
    "    # Models\n",
    "    \n",
    "\n",
    "    # Optimizers\n",
    "    generator_optimizer = torch.optim.Adam(generator.parameters(), lr=0.002)\n",
    "    discriminator_optimizer = torch.optim.Adam(discriminator.parameters(), lr=0.002)\n",
    "\n",
    "    # loss\n",
    "    loss = nn.BCELoss()\n",
    "    g_loss_vals = []\n",
    "    d_loss_vals = []\n",
    "    for i in range(training_steps):\n",
    "       \n",
    "        # zero the gradients on each iteration\n",
    "        generator_optimizer.zero_grad()\n",
    "\n",
    "        # Create noisy input for generator\n",
    "        # Need float type instead of int\n",
    "        \n",
    "        noise = torch.randint(0, 2, size=(batch_size, input_length)).float()\n",
    "        generated_data = generator(noise)\n",
    "        true_labels, true_data = generate_even_data(max_int, batch_size=batch_size)\n",
    "        true_labels = torch.tensor(true_labels).float()\n",
    "        true_data = torch.tensor(true_data).float()\n",
    "\n",
    "        # Train the generator\n",
    "        # We invert the labels here and don't train the discriminator because we want the generator\n",
    "        # to make things the discriminator classifies as true.\n",
    "     #  Get the predictions from the discriminator on the “fake” data\n",
    "        generator_discriminator_out = discriminator(generated_data)\n",
    "\n",
    "        true_labels = true_labels.reshape((len(true_labels), 1))\n",
    "        generator_loss = loss(generator_discriminator_out, true_labels)\n",
    "        g_loss_vals.append(generator_loss.item())\n",
    "        generator_loss.backward()\n",
    "        generator_optimizer.step()\n",
    "\n",
    "        # Train the discriminator on the true/generated data\n",
    "        discriminator_optimizer.zero_grad()\n",
    "        true_discriminator_out = discriminator(true_data)\n",
    "        \n",
    "#         print('true_discriminator_out',true_discriminator_out.shape)\n",
    "#         print('true_labels',true_labels.shape)\n",
    "        true_discriminator_loss = loss(true_discriminator_out, true_labels)\n",
    "        true_discriminator_loss.backward()\n",
    "        # add .detach() here think about this\n",
    "        generator_discriminator_out = discriminator(generated_data.detach())\n",
    "        fake_data = torch.zeros(batch_size)\n",
    "        fake_data = fake_data.reshape(len(fake_data),1)\n",
    "        generator_discriminator_loss = loss(generator_discriminator_out, fake_data)\n",
    "        discriminator_loss = (true_discriminator_loss + generator_discriminator_loss) / 2\n",
    "        d_loss_vals.append(discriminator_loss.item())\n",
    "#         discriminator_loss.backward()\n",
    "        generator_discriminator_loss.backward()\n",
    "        discriminator_optimizer.step()\n",
    "    return g_loss_vals,d_loss_vals\n",
    "#         return generator,discriminator"
   ]
  },
  {
   "cell_type": "code",
   "execution_count": 250,
   "metadata": {},
   "outputs": [],
   "source": [
    "generator_loss, discriminator_loss = train()"
   ]
  },
  {
   "cell_type": "markdown",
   "metadata": {},
   "source": [
    "## After Training check if generator is able to produce even number"
   ]
  },
  {
   "cell_type": "code",
   "execution_count": 264,
   "metadata": {},
   "outputs": [
    {
     "name": "stdout",
     "output_type": "stream",
     "text": [
      "** Generator input***\n",
      "tensor([[0., 1., 1., 0., 1., 1., 1.],\n",
      "        [1., 1., 1., 0., 1., 1., 1.],\n",
      "        [1., 1., 1., 0., 1., 1., 0.],\n",
      "        [0., 0., 0., 1., 0., 0., 0.],\n",
      "        [0., 0., 0., 0., 0., 0., 0.],\n",
      "        [0., 1., 0., 1., 0., 0., 0.],\n",
      "        [1., 0., 0., 1., 0., 1., 1.],\n",
      "        [1., 0., 0., 1., 0., 0., 1.],\n",
      "        [1., 1., 0., 0., 1., 0., 0.],\n",
      "        [0., 0., 1., 0., 1., 0., 1.],\n",
      "        [0., 0., 0., 0., 1., 1., 1.],\n",
      "        [0., 0., 0., 0., 1., 1., 0.],\n",
      "        [1., 0., 1., 0., 0., 1., 1.],\n",
      "        [0., 1., 0., 0., 0., 0., 0.],\n",
      "        [1., 1., 0., 1., 0., 0., 0.]])\n",
      "*** Generator output even number because last digit is 0 ***\n",
      "tensor([[0., 0., 0., 1., 1., 1., 0.],\n",
      "        [0., 0., 0., 1., 1., 1., 0.],\n",
      "        [0., 0., 0., 1., 1., 1., 0.],\n",
      "        [0., 1., 0., 1., 1., 1., 0.],\n",
      "        [0., 1., 0., 1., 1., 0., 0.],\n",
      "        [0., 0., 0., 1., 1., 1., 0.],\n",
      "        [0., 0., 0., 1., 1., 1., 0.],\n",
      "        [0., 1., 0., 1., 1., 1., 0.],\n",
      "        [0., 0., 0., 1., 1., 1., 0.],\n",
      "        [0., 1., 0., 1., 1., 1., 0.],\n",
      "        [0., 0., 0., 1., 1., 1., 0.],\n",
      "        [0., 0., 0., 1., 1., 1., 0.],\n",
      "        [0., 0., 0., 1., 1., 1., 0.],\n",
      "        [0., 0., 0., 1., 1., 1., 0.],\n",
      "        [0., 0., 0., 1., 1., 1., 0.]], grad_fn=<RoundBackward>)\n"
     ]
    }
   ],
   "source": [
    "\n",
    "# print(input_length)\n",
    "noise = torch.randint(0, 2, size=(15, input_length)).float()\n",
    "\n",
    "print('** Generator input***')\n",
    "print(noise)\n",
    "\n",
    "# generator = Generator(input_length)\n",
    "generated_data = generator(noise)\n",
    "print('*** Generator output even number because last digit is 0 ***')\n",
    "print(generated_data.round())\n"
   ]
  },
  {
   "cell_type": "code",
   "execution_count": 237,
   "metadata": {},
   "outputs": [],
   "source": [
    "epochs = np.linspace(0, num_epochs-1, num_epochs).astype(int)"
   ]
  },
  {
   "cell_type": "code",
   "execution_count": 236,
   "metadata": {},
   "outputs": [
    {
     "name": "stdout",
     "output_type": "stream",
     "text": [
      "200\n",
      "200\n"
     ]
    }
   ],
   "source": [
    "print(len(epochs))\n",
    "print(len(generator_loss))"
   ]
  },
  {
   "cell_type": "code",
   "execution_count": 244,
   "metadata": {},
   "outputs": [
    {
     "data": {
      "text/plain": [
       "<matplotlib.legend.Legend at 0x2ae23f400a0>"
      ]
     },
     "execution_count": 244,
     "metadata": {},
     "output_type": "execute_result"
    },
    {
     "data": {
      "image/png": "[encoded data removed]",
      "text/plain": [
       "<Figure size 576x576 with 1 Axes>"
      ]
     },
     "metadata": {
      "needs_background": "light"
     },
     "output_type": "display_data"
    }
   ],
   "source": [
    "plt.figure(figsize=(8,8))\n",
    "plt.plot(epochs, generator_loss,color = 'g',label = 'Generator loss')\n",
    "# plt.plot(epochs, discriminator_loss,color = 'r',label = 'Discriminator loss')\n",
    "# Naming the x-axis, y-axis and the whole graph\n",
    "plt.xlabel(\"Epochs\")\n",
    "plt.ylabel(\"Loss\")\n",
    "plt.ylim((0,1.1))\n",
    "plt.title(\"Generator loss\")\n",
    "# Adding legend, which helps us recognize the curve according to it's color\n",
    "plt.legend()"
   ]
  },
  {
   "cell_type": "code",
   "execution_count": 245,
   "metadata": {},
   "outputs": [
    {
     "data": {
      "text/plain": [
       "<matplotlib.legend.Legend at 0x2ae21292550>"
      ]
     },
     "execution_count": 245,
     "metadata": {},
     "output_type": "execute_result"
    },
    {
     "data": {
      "image/png": "[encoded data removed]",
      "text/plain": [
       "<Figure size 576x576 with 1 Axes>"
      ]
     },
     "metadata": {
      "needs_background": "light"
     },
     "output_type": "display_data"
    }
   ],
   "source": [
    "plt.figure(figsize=(8,8))\n",
    "\n",
    "plt.plot(epochs, discriminator_loss,color = 'r',label = 'Discriminator loss')\n",
    "# Naming the x-axis, y-axis and the whole graph\n",
    "plt.xlabel(\"Epochs\")\n",
    "plt.ylabel(\"Loss\")\n",
    "plt.ylim((0,1.1))\n",
    "plt.title(\"Discriminator loss\")\n",
    "# Adding legend, which helps us recognize the curve according to it's color\n",
    "plt.legend()"
   ]
  }
 ],
 "metadata": {
  "kernelspec": {
   "display_name": "Python 3",
   "language": "python",
   "name": "python3"
  },
  "language_info": {
   "codemirror_mode": {
    "name": "ipython",
    "version": 3
   },
   "file_extension": ".py",
   "mimetype": "text/x-python",
   "name": "python",
   "nbconvert_exporter": "python",
   "pygments_lexer": "ipython3",
   "version": "3.8.3"
  }
 },
 "nbformat": 4,
 "nbformat_minor": 4
}
